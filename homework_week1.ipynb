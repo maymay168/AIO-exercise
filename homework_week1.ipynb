{
  "nbformat": 4,
  "nbformat_minor": 0,
  "metadata": {
    "colab": {
      "provenance": [],
      "authorship_tag": "ABX9TyMe9P5G7eVDlwJHl0dUcxYN",
      "include_colab_link": true
    },
    "kernelspec": {
      "name": "python3",
      "display_name": "Python 3"
    },
    "language_info": {
      "name": "python"
    }
  },
  "cells": [
    {
      "cell_type": "markdown",
      "metadata": {
        "id": "view-in-github",
        "colab_type": "text"
      },
      "source": [
        "<a href=\"https://colab.research.google.com/github/maymay168/AIO-exercise/blob/feature%2Fexercise-activate-function/homework_week1.ipynb\" target=\"_parent\"><img src=\"https://colab.research.google.com/assets/colab-badge.svg\" alt=\"Open In Colab\"/></a>"
      ]
    },
    {
      "cell_type": "code",
      "execution_count": null,
      "metadata": {
        "id": "ttLG02kFSwZs"
      },
      "outputs": [],
      "source": [
        "import math\n",
        "\n",
        "# Exercise 1: Viet function thuc hien danh gia classification modal bang F1-Score\n",
        "\n",
        "def exercise1(tp, fp, fn):\n",
        "    if not isinstance(tp, int) or not isinstance(fp, int) or not isinstance(fn, int):\n",
        "        if not isinstance(tp, int):\n",
        "            print('tp must be int')\n",
        "        if not isinstance(fp, int):\n",
        "            print('fp must be int')\n",
        "        if not isinstance(fn, int):\n",
        "            print('fn must be int')\n",
        "        return\n",
        "    if tp <= 0 or fp <= 0 or fn <= 0:\n",
        "        print('tp and fp and fn must be greater than zero')\n",
        "        return\n",
        "    precision = tp / (tp + fp)\n",
        "    recall = tp / (tp + fn)\n",
        "    f1_score = (2 * precision * recall) / (precision + recall)\n",
        "    print(f'precision: {precision}')\n",
        "    print(f'recall: {recall}')\n",
        "    print(f'f1_score: {f1_score}')"
      ]
    },
    {
      "cell_type": "code",
      "source": [
        "# Exercise 2: Viet function mo phong theo 3 activation function\n",
        "\n",
        "alpha = 0.01\n",
        "def is_number(n):\n",
        "    try:\n",
        "        float(n)\n",
        "    except ValueError:\n",
        "        return False\n",
        "    return True\n",
        "\n",
        "def calc_activation_func(x, act_name):\n",
        "    result = None\n",
        "    if act_name == 'sigmoid':\n",
        "        result = 1 / (1 + math.e**(-x))\n",
        "    elif act_name == 'relu':\n",
        "        if x > 0:\n",
        "            result = x\n",
        "        else:\n",
        "            result = 0\n",
        "    elif act_name == 'elu':\n",
        "        if x > 0:\n",
        "            result = x\n",
        "        else:\n",
        "            result = alpha * (math.e**x - 1)\n",
        "    return result\n",
        "\n",
        "def exercise2():\n",
        "    x = input('Input x = ')\n",
        "    if not is_number(x):\n",
        "        print('x must be a number')\n",
        "        return\n",
        "\n",
        "    act_name = input('Input activation Function (sigmoid|relu|elu): ')\n",
        "    x = float(x)\n",
        "    result = calc_activation_func(x, act_name)\n",
        "    if act_name is None:\n",
        "        print(f'{act_name} is not supportted')\n",
        "    else:\n",
        "        print(f'{act_name}: f({x}) = {result}')"
      ],
      "metadata": {
        "id": "p-PrYZqvTID7"
      },
      "execution_count": 6,
      "outputs": []
    },
    {
      "cell_type": "code",
      "source": [
        "# Exercise 3: Viet function lua chon regression loss function de tinh loss\n",
        "import random\n",
        "\n",
        "def calc_ae(y, y_hat):\n",
        "    result = abs(y - y_hat)\n",
        "    return result\n",
        "\n",
        "def calc_se(y, y_hat):\n",
        "    result = (y - y_hat)**2\n",
        "    return result\n",
        "\n",
        "def exercise3():\n",
        "    num_samples = input('Input number of samples (integer number) which are generated: ')\n",
        "    if not num_samples.isnumeric():\n",
        "        print(\"number of samples must be an integer number\")\n",
        "        return\n",
        "    loss_name = input('Input loss name (MAE|MSE|RMSE): ')\n",
        "\n",
        "    final_loss = 0\n",
        "    num_samples = int(num_samples)\n",
        "    for i in range(num_samples):\n",
        "        pred_sample = random.uniform(0,10)\n",
        "        target_sample = random.uniform(0,10)\n",
        "\n",
        "        if loss_name == 'MAE':\n",
        "            loss = calc_ae(pred_sample, target_sample)\n",
        "        elif loss_name == 'MSE' or loss_name == 'RMSE':\n",
        "            loss = calc_se(pred_sample, target_sample)\n",
        "        final_loss += loss\n",
        "        print(f'loss_name: {loss_name}, sample: {i}: pred: {pred_sample} target: {target_sample} loss: {loss}')\n",
        "\n",
        "    final_loss /= num_samples\n",
        "    if loss_name == 'RMSE':\n",
        "        final_loss = math.sqrt(final_loss)\n",
        "    print(f'{loss_name}: {final_loss}')\n"
      ],
      "metadata": {
        "id": "6Av89rR6aWOY"
      },
      "execution_count": 13,
      "outputs": []
    },
    {
      "cell_type": "code",
      "source": [
        "# Exercise 4: Viet 4 function de uoc luong cac ham sin(x), cos(x), sinh(x), cosh(x)\n",
        "\n",
        "def factorial(n):\n",
        "    result = 1\n",
        "    for i in range(1, n + 1):\n",
        "        result *= i\n",
        "    return result\n",
        "\n",
        "def approx_cos(x, n):\n",
        "    result = 0\n",
        "    for i in range(n + 1):\n",
        "        result += (-1)**i * x**(2 * i) / factorial(2 * i)\n",
        "    return result\n",
        "\n",
        "def approx_sin(x, n):\n",
        "    result = 0\n",
        "    for i in range(n + 1):\n",
        "        result += (-1)**i * x**(2 * i + 1) / factorial(2 * i + 1)\n",
        "    return result\n",
        "\n",
        "def approx_sinh(x, n):\n",
        "    result = 0\n",
        "    for i in range(n + 1):\n",
        "        result += (-1)**i * x**(2 * i + 1) / factorial(2 * i + 1)\n",
        "    return result\n",
        "\n",
        "def approx_cosh(x, n):\n",
        "    result = 0\n",
        "    for i in range(n + 1):\n",
        "        result += (-1)**i * x**(2 * i) / factorial(2 * i)\n",
        "    return result\n"
      ],
      "metadata": {
        "id": "JjVsrVQLhcZs"
      },
      "execution_count": 16,
      "outputs": []
    },
    {
      "cell_type": "code",
      "source": [
        "# Exercise 5: Viet function thuc hien Mean Difference of nth Root Error:\n",
        "\n",
        "def md_mre_single_sample(y, y_hat, n, p):\n",
        "    result = (y**(1/n) - y_hat**(1/n))**p\n",
        "    return result"
      ],
      "metadata": {
        "id": "1KfYhKFti8t2"
      },
      "execution_count": 24,
      "outputs": []
    }
  ]
}